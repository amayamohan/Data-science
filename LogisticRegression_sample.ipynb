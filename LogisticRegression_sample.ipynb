{
 "cells": [
  {
   "cell_type": "code",
   "execution_count": 1,
   "id": "a2478773",
   "metadata": {},
   "outputs": [
    {
     "name": "stdout",
     "output_type": "stream",
     "text": [
      "4.5 hours study → Pass probability: 0.5017745155108064\n",
      "7 hours study   → Pass probability: 0.9508262625358741\n"
     ]
    },
    {
     "name": "stderr",
     "output_type": "stream",
     "text": [
      "C:\\Users\\amaya\\AppData\\Roaming\\Python\\Python313\\site-packages\\sklearn\\utils\\validation.py:2749: UserWarning: X does not have valid feature names, but LogisticRegression was fitted with feature names\n",
      "  warnings.warn(\n",
      "C:\\Users\\amaya\\AppData\\Roaming\\Python\\Python313\\site-packages\\sklearn\\utils\\validation.py:2749: UserWarning: X does not have valid feature names, but LogisticRegression was fitted with feature names\n",
      "  warnings.warn(\n"
     ]
    }
   ],
   "source": [
    "import pandas as pd\n",
    "from sklearn.linear_model import LogisticRegression\n",
    "\n",
    "# Dataset: study hours → pass/fail\n",
    "data = pd.DataFrame({\n",
    "    \"study_hours\": [1,2,3,4,5,6,7,8,9,10],\n",
    "    \"pass_exam\":   [0,0,0,0,1,1,1,1,1,1]  # 0=Fail, 1=Pass\n",
    "})\n",
    "\n",
    "X = data[[\"study_hours\"]]\n",
    "y = data[\"pass_exam\"]\n",
    "\n",
    "# Train model\n",
    "model = LogisticRegression()\n",
    "model.fit(X, y)\n",
    "\n",
    "# Predict for 4.5 and 7 hours\n",
    "print(\"4.5 hours study → Pass probability:\", model.predict_proba([[4.5]])[0][1])\n",
    "\n",
    "print(\"7 hours study   → Pass probability:\", model.predict_proba([[7]])[0][1])"
   ]
  }
 ],
 "metadata": {
  "kernelspec": {
   "display_name": "Python 3",
   "language": "python",
   "name": "python3"
  },
  "language_info": {
   "codemirror_mode": {
    "name": "ipython",
    "version": 3
   },
   "file_extension": ".py",
   "mimetype": "text/x-python",
   "name": "python",
   "nbconvert_exporter": "python",
   "pygments_lexer": "ipython3",
   "version": "3.13.3"
  }
 },
 "nbformat": 4,
 "nbformat_minor": 5
}
