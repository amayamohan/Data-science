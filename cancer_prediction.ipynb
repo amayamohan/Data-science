{
 "cells": [
  {
   "cell_type": "markdown",
   "id": "a8dcb644",
   "metadata": {},
   "source": [
    "CANCER_PREDICTION (Predefined data)"
   ]
  },
  {
   "cell_type": "code",
   "execution_count": 1,
   "id": "399c05ed",
   "metadata": {},
   "outputs": [],
   "source": [
    "import pandas as pd\n",
    "from sklearn.datasets import load_breast_cancer\n",
    "from sklearn.model_selection import train_test_split\n",
    "from sklearn.linear_model import LogisticRegression\n",
    "from sklearn.metrics import accuracy_score, classification_report, confusion_matrix\n",
    "import seaborn as sns\n",
    "import matplotlib.pyplot as plt"
   ]
  },
  {
   "cell_type": "markdown",
   "id": "3fa01be6",
   "metadata": {},
   "source": [
    "----------------DATA---------------"
   ]
  },
  {
   "cell_type": "code",
   "execution_count": 2,
   "id": "6dd5ee7b",
   "metadata": {},
   "outputs": [],
   "source": [
    "data = load_breast_cancer()\n",
    "df = pd.DataFrame(data.data,columns=data.feature_names)\n",
    "df['target'] =  data.target"
   ]
  },
  {
   "cell_type": "code",
   "execution_count": null,
   "id": "f285a6ec",
   "metadata": {},
   "outputs": [],
   "source": [
    "df_small = df[['mean radius', 'mean texture', 'mean perimeter', 'mean area', 'mean smoothness', 'target']]\n"
   ]
  }
 ],
 "metadata": {
  "kernelspec": {
   "display_name": "Python 3",
   "language": "python",
   "name": "python3"
  },
  "language_info": {
   "codemirror_mode": {
    "name": "ipython",
    "version": 3
   },
   "file_extension": ".py",
   "mimetype": "text/x-python",
   "name": "python",
   "nbconvert_exporter": "python",
   "pygments_lexer": "ipython3",
   "version": "3.11.9"
  }
 },
 "nbformat": 4,
 "nbformat_minor": 5
}
