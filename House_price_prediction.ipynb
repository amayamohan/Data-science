{
 "cells": [
  {
   "cell_type": "code",
   "execution_count": 2,
   "id": "f1c8b637",
   "metadata": {},
   "outputs": [],
   "source": [
    "import numpy as np"
   ]
  },
  {
   "cell_type": "code",
   "execution_count": 3,
   "id": "cb4258d5",
   "metadata": {},
   "outputs": [],
   "source": [
    "x = np.array([500, 800, 1000, 1200, 1500]).reshape(-1, 1)\n",
    "y = np.array([150000, 200000, 250000, 300000, 350000])"
   ]
  }
 ],
 "metadata": {
  "kernelspec": {
   "display_name": "Python 3",
   "language": "python",
   "name": "python3"
  },
  "language_info": {
   "codemirror_mode": {
    "name": "ipython",
    "version": 3
   },
   "file_extension": ".py",
   "mimetype": "text/x-python",
   "name": "python",
   "nbconvert_exporter": "python",
   "pygments_lexer": "ipython3",
   "version": "3.11.9"
  }
 },
 "nbformat": 4,
 "nbformat_minor": 5
}
