{
 "cells": [
  {
   "cell_type": "code",
   "execution_count": 17,
   "id": "67fd8951",
   "metadata": {},
   "outputs": [
    {
     "name": "stdout",
     "output_type": "stream",
     "text": [
      "[0 1 2 3 4 5]\n"
     ]
    }
   ],
   "source": [
    "import numpy as np\n",
    "a = np.array([0,1,2,3,4,5])\n",
    "print(a)"
   ]
  },
  {
   "cell_type": "code",
   "execution_count": 19,
   "id": "bbd5b757",
   "metadata": {},
   "outputs": [
    {
     "name": "stdout",
     "output_type": "stream",
     "text": [
      "[[0. 0. 0.]\n",
      " [0. 0. 0.]]\n"
     ]
    }
   ],
   "source": [
    "print(np.zeros((2,3)))"
   ]
  },
  {
   "cell_type": "code",
   "execution_count": 20,
   "metadata": {},
   "outputs": [
    {
     "name": "stdout",
     "output_type": "stream",
     "text": [
      "[[1. 1. 1.]\n",
      " [1. 1. 1.]]\n"
     ]
    }
   ],
   "source": [
    "print(np.ones((2,3)))"
   ]
  },
  {
   "cell_type": "code",
   "execution_count": 21,
   "metadata": {},
   "outputs": [
    {
     "name": "stdout",
     "output_type": "stream",
     "text": [
      "[0 2 4 6 8]\n"
     ]
    }
   ],
   "source": [
    "a = np.arange(0, 10, 2)   #Arrange from 0 to 10 with step 2\n",
    "print(a)"
   ]
  },
  {
   "cell_type": "code",
   "execution_count": 27,
   "metadata": {},
   "outputs": [
    {
     "name": "stdout",
     "output_type": "stream",
     "text": [
      "Original Array  [0 1 2 3 4 5]\n",
      "Reshaped Array [[0 1 2]\n",
      " [3 4 5]]\n"
     ]
    }
   ],
   "source": [
    "a = np.array([0,1,2,3,4,5])\n",
    "\n",
    "print(\"Original Array \",a)\n",
    "\n",
    "b = a.reshape(2,3)\n",
    "print(\"Reshaped Array\" ,b)"
   ]
  },
  {
   "cell_type": "code",
   "execution_count": 31,
   "metadata": {},
   "outputs": [
    {
     "name": "stdout",
     "output_type": "stream",
     "text": [
      "2.5\n",
      "2.5\n",
      "1.118033988749895\n"
     ]
    }
   ],
   "source": [
    "arr = np.array([1,2,3,4])\n",
    "print(np.mean(arr))\n",
    "print(np.median(arr))\n",
    "print(np.std(arr))"
   ]
  },
  {
   "cell_type": "code",
   "execution_count": 159,
   "id": "0267618d",
   "metadata": {},
   "outputs": [
    {
     "name": "stdout",
     "output_type": "stream",
     "text": [
      "0.7886366541341739\n",
      "[0.38312676 0.69404701 0.76023614 0.97032037 0.17114945]\n",
      "[[0.09743115 0.76144808 0.8103726 ]\n",
      " [0.89175122 0.91372845 0.32462619]]\n",
      "1\n",
      "[ 2  7 81 92 29]\n",
      "[[33 15 15 40]\n",
      " [ 8 36 39 22]\n",
      " [21 13 14 16]]\n",
      "972992\n"
     ]
    }
   ],
   "source": [
    "\n",
    "a = np.random.rand()\n",
    "print(a)\n",
    "\n",
    "b= np.random.rand(5)\n",
    "print(b)\n",
    "\n",
    "c = np.random.rand(2,3)\n",
    "print(c)\n",
    "\n",
    "x = np.random.randint(1, 10)\n",
    "print(x)\n",
    "\n",
    "y = np.random.randint(0, 100, size= 5)\n",
    "print(y)\n",
    "\n",
    "z = np.random.randint(0, 50, size= (3,4))\n",
    "print(z)\n",
    "otp  = np.random.randint(100000, 999999)\n",
    "print(otp)"
   ]
  },
  {
   "cell_type": "code",
   "execution_count": null,
   "id": "c5704f1d",
   "metadata": {},
   "outputs": [],
   "source": []
  },
  {
   "cell_type": "code",
   "execution_count": null,
   "id": "eb7e2293",
   "metadata": {},
   "outputs": [],
   "source": []
  },
  {
   "cell_type": "code",
   "execution_count": null,
   "id": "7a7d1165",
   "metadata": {},
   "outputs": [],
   "source": []
  }
 ],
 "metadata": {
  "kernelspec": {
   "display_name": "Python 3",
   "language": "python",
   "name": "python3"
  },
  "language_info": {
   "codemirror_mode": {
    "name": "ipython",
    "version": 3
   },
   "file_extension": ".py",
   "mimetype": "text/x-python",
   "name": "python",
   "nbconvert_exporter": "python",
   "pygments_lexer": "ipython3",
   "version": "3.11.9"
  }
 },
 "nbformat": 4,
 "nbformat_minor": 5
}
