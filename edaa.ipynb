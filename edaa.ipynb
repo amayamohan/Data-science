{
 "cells": [
  {
   "cell_type": "code",
   "execution_count": 1,
   "id": "7ea29ca2",
   "metadata": {},
   "outputs": [
    {
     "name": "stdout",
     "output_type": "stream",
     "text": [
      "ORDERNUMBER            0\n",
      "QUANTITYORDERED        0\n",
      "PRICEEACH              0\n",
      "ORDERLINENUMBER        0\n",
      "SALES                  0\n",
      "ORDERDATE            195\n",
      "STATUS                 7\n",
      "QTR_ID                 7\n",
      "MONTH_ID               7\n",
      "YEAR_ID               54\n",
      "PRODUCTLINE          196\n",
      "MSRP                  60\n",
      "PRODUCTCODE            7\n",
      "CUSTOMERNAME          46\n",
      "PHONE                 93\n",
      "ADDRESSLINE1         242\n",
      "ADDRESSLINE2        2545\n",
      "CITY                   7\n",
      "STATE               1491\n",
      "POSTALCODE            83\n",
      "COUNTRY                7\n",
      "TERRITORY           1078\n",
      "CONTACTLASTNAME        7\n",
      "CONTACTFIRSTNAME       7\n",
      "DEALSIZE             168\n",
      "dtype: int64\n"
     ]
    }
   ],
   "source": [
    "\n",
    "import pandas as pd\n",
    "data = pd.read_csv(r\"C:\\Users\\pc\\Desktop\\Data science\\MISSING_DATASET_HANDLING.csv\",encoding='latin1')\n",
    "print(data.isnull().sum())"
   ]
  },
  {
   "cell_type": "code",
   "execution_count": 2,
   "id": "ade6b5a6",
   "metadata": {},
   "outputs": [
    {
     "name": "stdout",
     "output_type": "stream",
     "text": [
      "ORDERNUMBER            0\n",
      "QUANTITYORDERED        0\n",
      "PRICEEACH              0\n",
      "ORDERLINENUMBER        0\n",
      "SALES                  0\n",
      "ORDERDATE            195\n",
      "STATUS                 7\n",
      "QTR_ID                 7\n",
      "MONTH_ID               7\n",
      "YEAR_ID               54\n",
      "PRODUCTLINE          196\n",
      "MSRP                  60\n",
      "PRODUCTCODE            7\n",
      "CUSTOMERNAME          46\n",
      "PHONE                 93\n",
      "ADDRESSLINE1         242\n",
      "CITY                   7\n",
      "STATE               1491\n",
      "POSTALCODE            83\n",
      "COUNTRY                7\n",
      "TERRITORY           1078\n",
      "CONTACTLASTNAME        7\n",
      "CONTACTFIRSTNAME       7\n",
      "DEALSIZE             168\n",
      "dtype: int64\n"
     ]
    }
   ],
   "source": [
    "#DROP\n",
    "\n",
    "data = data.drop(columns=['ADDRESSLINE2'])\n",
    "print(data.isnull().sum())"
   ]
  },
  {
   "cell_type": "code",
   "execution_count": 5,
   "id": "dec5f468",
   "metadata": {},
   "outputs": [
    {
     "name": "stdout",
     "output_type": "stream",
     "text": [
      "ORDERNUMBER            0\n",
      "QUANTITYORDERED        0\n",
      "PRICEEACH              0\n",
      "ORDERLINENUMBER        0\n",
      "SALES                  0\n",
      "ORDERDATE              0\n",
      "STATUS                 0\n",
      "QTR_ID                 0\n",
      "MONTH_ID               0\n",
      "YEAR_ID                0\n",
      "PRODUCTLINE            0\n",
      "MSRP                   0\n",
      "PRODUCTCODE            0\n",
      "CUSTOMERNAME           0\n",
      "PHONE                 32\n",
      "ADDRESSLINE1          48\n",
      "CITY                   0\n",
      "STATE               1352\n",
      "POSTALCODE            66\n",
      "COUNTRY                0\n",
      "TERRITORY            964\n",
      "CONTACTLASTNAME        0\n",
      "CONTACTFIRSTNAME       0\n",
      "DEALSIZE               0\n",
      "dtype: int64\n"
     ]
    }
   ],
   "source": [
    "#if missing values are less we can drop the rows\n",
    "data = data.dropna(subset=['ORDERDATE','PRODUCTLINE'])\n",
    "print(data.isnull().sum())"
   ]
  },
  {
   "cell_type": "code",
   "execution_count": 6,
   "id": "e1e0d12c",
   "metadata": {},
   "outputs": [
    {
     "name": "stdout",
     "output_type": "stream",
     "text": [
      "ORDERNUMBER            0\n",
      "QUANTITYORDERED        0\n",
      "PRICEEACH              0\n",
      "ORDERLINENUMBER        0\n",
      "SALES                  0\n",
      "ORDERDATE              0\n",
      "STATUS                 0\n",
      "QTR_ID                 0\n",
      "MONTH_ID               0\n",
      "YEAR_ID                0\n",
      "PRODUCTLINE            0\n",
      "MSRP                   0\n",
      "PRODUCTCODE            0\n",
      "CUSTOMERNAME           0\n",
      "PHONE                 32\n",
      "ADDRESSLINE1          48\n",
      "CITY                   0\n",
      "STATE               1352\n",
      "POSTALCODE            66\n",
      "COUNTRY                0\n",
      "TERRITORY            964\n",
      "CONTACTLASTNAME        0\n",
      "CONTACTFIRSTNAME       0\n",
      "DEALSIZE               0\n",
      "YEAR_ID                0\n",
      "dtype: int64\n"
     ]
    },
    {
     "name": "stderr",
     "output_type": "stream",
     "text": [
      "C:\\Users\\pc\\AppData\\Local\\Temp\\ipykernel_348\\3457443500.py:1: SettingWithCopyWarning: \n",
      "A value is trying to be set on a copy of a slice from a DataFrame.\n",
      "Try using .loc[row_indexer,col_indexer] = value instead\n",
      "\n",
      "See the caveats in the documentation: https://pandas.pydata.org/pandas-docs/stable/user_guide/indexing.html#returning-a-view-versus-a-copy\n",
      "  data[\"MSRP\"] = data[\"MSRP\"].fillna(data[\"MSRP\"].median())\n",
      "C:\\Users\\pc\\AppData\\Local\\Temp\\ipykernel_348\\3457443500.py:2: SettingWithCopyWarning: \n",
      "A value is trying to be set on a copy of a slice from a DataFrame.\n",
      "Try using .loc[row_indexer,col_indexer] = value instead\n",
      "\n",
      "See the caveats in the documentation: https://pandas.pydata.org/pandas-docs/stable/user_guide/indexing.html#returning-a-view-versus-a-copy\n",
      "  data[\"YEAR_ID \"] = data[\"YEAR_ID\"].fillna(data[\"YEAR_ID\"].mode()[0])\n"
     ]
    }
   ],
   "source": [
    "data[\"MSRP\"] = data[\"MSRP\"].fillna(data[\"MSRP\"].median())\n",
    "data[\"YEAR_ID \"] = data[\"YEAR_ID\"].fillna(data[\"YEAR_ID\"].mode()[0])\n",
    "print(data.isnull().sum())"
   ]
  }
 ],
 "metadata": {
  "kernelspec": {
   "display_name": "Python 3",
   "language": "python",
   "name": "python3"
  },
  "language_info": {
   "codemirror_mode": {
    "name": "ipython",
    "version": 3
   },
   "file_extension": ".py",
   "mimetype": "text/x-python",
   "name": "python",
   "nbconvert_exporter": "python",
   "pygments_lexer": "ipython3",
   "version": "3.11.9"
  }
 },
 "nbformat": 4,
 "nbformat_minor": 5
}
