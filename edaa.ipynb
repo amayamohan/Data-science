{
 "cells": [
  {
   "cell_type": "code",
   "execution_count": null,
   "id": "7ea29ca2",
   "metadata": {},
   "outputs": [
    {
     "name": "stdout",
     "output_type": "stream",
     "text": [
      "ORDERNUMBER            0\n",
      "QUANTITYORDERED        0\n",
      "PRICEEACH              0\n",
      "ORDERLINENUMBER        0\n",
      "SALES                  0\n",
      "ORDERDATE            195\n",
      "STATUS                 7\n",
      "QTR_ID                 7\n",
      "MONTH_ID               7\n",
      "YEAR_ID               54\n",
      "PRODUCTLINE          196\n",
      "MSRP                  60\n",
      "PRODUCTCODE            7\n",
      "CUSTOMERNAME          46\n",
      "PHONE                 93\n",
      "ADDRESSLINE1         242\n",
      "ADDRESSLINE2        2545\n",
      "CITY                   7\n",
      "STATE               1491\n",
      "POSTALCODE            83\n",
      "COUNTRY                7\n",
      "TERRITORY           1078\n",
      "CONTACTLASTNAME        7\n",
      "CONTACTFIRSTNAME       7\n",
      "DEALSIZE             168\n",
      "dtype: int64\n"
     ]
    }
   ],
   "source": [
    "\n",
    "# import pandas as pd\n",
    "# data = pd.read_csv(r\"C:\\Users\\pc\\Desktop\\Data science\\MISSING_DATASET_HANDLING.csv\",encoding='latin1')\n",
    "# print(data.isnull().sum())"
   ]
  },
  {
   "cell_type": "code",
   "execution_count": 2,
   "id": "ade6b5a6",
   "metadata": {},
   "outputs": [
    {
     "name": "stdout",
     "output_type": "stream",
     "text": [
      "ORDERNUMBER            0\n",
      "QUANTITYORDERED        0\n",
      "PRICEEACH              0\n",
      "ORDERLINENUMBER        0\n",
      "SALES                  0\n",
      "ORDERDATE            195\n",
      "STATUS                 7\n",
      "QTR_ID                 7\n",
      "MONTH_ID               7\n",
      "YEAR_ID               54\n",
      "PRODUCTLINE          196\n",
      "MSRP                  60\n",
      "PRODUCTCODE            7\n",
      "CUSTOMERNAME          46\n",
      "PHONE                 93\n",
      "ADDRESSLINE1         242\n",
      "CITY                   7\n",
      "STATE               1491\n",
      "POSTALCODE            83\n",
      "COUNTRY                7\n",
      "TERRITORY           1078\n",
      "CONTACTLASTNAME        7\n",
      "CONTACTFIRSTNAME       7\n",
      "DEALSIZE             168\n",
      "dtype: int64\n"
     ]
    }
   ],
   "source": [
    "#DROP\n",
    "\n",
    "data = data.drop(columns=['ADDRESSLINE2'])\n",
    "print(data.isnull().sum())"
   ]
  },
  {
   "cell_type": "code",
   "execution_count": null,
   "id": "dec5f468",
   "metadata": {},
   "outputs": [],
   "source": [
    "#if missing values are less we can drop the rows\n",
    "# data = data.dropna(subset=['ORDERDATE','PRODUCTLINE'])\n",
    "# print(data.isnull().sum())"
   ]
  },
  {
   "cell_type": "code",
   "execution_count": 10,
   "id": "e1e0d12c",
   "metadata": {},
   "outputs": [],
   "source": [
    "# data[\"MSRP\"] = data[\"MSRP\"].fillna(data[\"MSRP\"].median())\n",
    "# data[\"YEAR_ID \"] = data[\"YEAR_ID\"].fillna(data[\"YEAR_ID\"].mode()[0])\n",
    "# print(data.isnull().sum())"
   ]
  },
  {
   "cell_type": "code",
   "execution_count": 12,
   "id": "7dde0be3",
   "metadata": {},
   "outputs": [
    {
     "name": "stdout",
     "output_type": "stream",
     "text": [
      "ORDERNUMBER            0\n",
      "QUANTITYORDERED        0\n",
      "PRICEEACH              0\n",
      "ORDERLINENUMBER        0\n",
      "SALES                  0\n",
      "ORDERDATE              0\n",
      "STATUS                 0\n",
      "QTR_ID                 0\n",
      "MONTH_ID               0\n",
      "YEAR_ID                0\n",
      "PRODUCTLINE            0\n",
      "MSRP                   0\n",
      "PRODUCTCODE            0\n",
      "CUSTOMERNAME           0\n",
      "PHONE                 32\n",
      "ADDRESSLINE1          48\n",
      "CITY                   0\n",
      "STATE               1352\n",
      "POSTALCODE            66\n",
      "COUNTRY                0\n",
      "TERRITORY            964\n",
      "CONTACTLASTNAME        0\n",
      "CONTACTFIRSTNAME       0\n",
      "DEALSIZE               0\n",
      "YEAR_ID                0\n",
      "dtype: int64\n"
     ]
    }
   ],
   "source": [
    "data[\"STATUS\"].fillna(data[\"STATUS\"].mode()[0],inplace=True)\n",
    "print(data.isnull().sum())\n"
   ]
  },
  {
   "cell_type": "code",
   "execution_count": 14,
   "id": "17f8bfaa",
   "metadata": {},
   "outputs": [
    {
     "name": "stdout",
     "output_type": "stream",
     "text": [
      "ORDERNUMBER            0\n",
      "QUANTITYORDERED        0\n",
      "PRICEEACH              0\n",
      "ORDERLINENUMBER        0\n",
      "SALES                  0\n",
      "ORDERDATE              0\n",
      "STATUS                 0\n",
      "QTR_ID                 0\n",
      "MONTH_ID               0\n",
      "YEAR_ID                0\n",
      "PRODUCTLINE            0\n",
      "MSRP                   0\n",
      "PRODUCTCODE            0\n",
      "CUSTOMERNAME           0\n",
      "PHONE                  0\n",
      "ADDRESSLINE1          48\n",
      "CITY                   0\n",
      "STATE               1352\n",
      "POSTALCODE            66\n",
      "COUNTRY                0\n",
      "TERRITORY            964\n",
      "CONTACTLASTNAME        0\n",
      "CONTACTFIRSTNAME       0\n",
      "DEALSIZE               0\n",
      "YEAR_ID                0\n",
      "dtype: int64\n"
     ]
    },
    {
     "name": "stderr",
     "output_type": "stream",
     "text": [
      "C:\\Users\\pc\\AppData\\Local\\Temp\\ipykernel_348\\3968610970.py:2: FutureWarning: A value is trying to be set on a copy of a DataFrame or Series through chained assignment using an inplace method.\n",
      "The behavior will change in pandas 3.0. This inplace method will never work because the intermediate object on which we are setting values always behaves as a copy.\n",
      "\n",
      "For example, when doing 'df[col].method(value, inplace=True)', try using 'df.method({col: value}, inplace=True)' or df[col] = df[col].method(value) instead, to perform the operation inplace on the original object.\n",
      "\n",
      "\n",
      "  data[\"PHONE\"].fillna(\"Unknown\", inplace=True)\n"
     ]
    }
   ],
   "source": [
    "#Fill with Unknown\n",
    "data[\"PHONE\"].fillna(\"Unknown\", inplace=True)\n",
    "print(data.isnull().sum())"
   ]
  },
  {
   "cell_type": "code",
   "execution_count": 18,
   "id": "dcca7af0",
   "metadata": {},
   "outputs": [
    {
     "name": "stdout",
     "output_type": "stream",
     "text": [
      "Requirement already satisfied: scikit-learn in c:\\users\\pc\\appdata\\local\\packages\\pythonsoftwarefoundation.python.3.11_qbz5n2kfra8p0\\localcache\\local-packages\\python311\\site-packages (1.7.2)\n",
      "Requirement already satisfied: numpy>=1.22.0 in c:\\users\\pc\\appdata\\local\\packages\\pythonsoftwarefoundation.python.3.11_qbz5n2kfra8p0\\localcache\\local-packages\\python311\\site-packages (from scikit-learn) (2.3.2)\n",
      "Requirement already satisfied: scipy>=1.8.0 in c:\\users\\pc\\appdata\\local\\packages\\pythonsoftwarefoundation.python.3.11_qbz5n2kfra8p0\\localcache\\local-packages\\python311\\site-packages (from scikit-learn) (1.16.1)\n",
      "Requirement already satisfied: joblib>=1.2.0 in c:\\users\\pc\\appdata\\local\\packages\\pythonsoftwarefoundation.python.3.11_qbz5n2kfra8p0\\localcache\\local-packages\\python311\\site-packages (from scikit-learn) (1.5.2)\n",
      "Requirement already satisfied: threadpoolctl>=3.1.0 in c:\\users\\pc\\appdata\\local\\packages\\pythonsoftwarefoundation.python.3.11_qbz5n2kfra8p0\\localcache\\local-packages\\python311\\site-packages (from scikit-learn) (3.6.0)\n"
     ]
    },
    {
     "name": "stderr",
     "output_type": "stream",
     "text": [
      "\n",
      "[notice] A new release of pip is available: 24.0 -> 25.2\n",
      "[notice] To update, run: C:\\Users\\pc\\AppData\\Local\\Microsoft\\WindowsApps\\PythonSoftwareFoundation.Python.3.11_qbz5n2kfra8p0\\python.exe -m pip install --upgrade pip\n"
     ]
    }
   ],
   "source": [
    "!pip install scikit-learn\n"
   ]
  },
  {
   "cell_type": "code",
   "execution_count": null,
   "id": "afded171",
   "metadata": {},
   "outputs": [
    {
     "name": "stdout",
     "output_type": "stream",
     "text": [
      "ORDERNUMBER            0\n",
      "QUANTITYORDERED        0\n",
      "PRICEEACH              0\n",
      "ORDERLINENUMBER        0\n",
      "SALES                  0\n",
      "ORDERDATE            195\n",
      "STATUS                 7\n",
      "QTR_ID                 7\n",
      "MONTH_ID               7\n",
      "YEAR_ID               54\n",
      "PRODUCTLINE          196\n",
      "MSRP                  60\n",
      "PRODUCTCODE            7\n",
      "CUSTOMERNAME          46\n",
      "PHONE                 93\n",
      "ADDRESSLINE1         242\n",
      "ADDRESSLINE2        2545\n",
      "CITY                   7\n",
      "STATE               1491\n",
      "POSTALCODE            83\n",
      "COUNTRY                7\n",
      "TERRITORY           1078\n",
      "CONTACTLASTNAME        7\n",
      "CONTACTFIRSTNAME       7\n",
      "DEALSIZE             168\n",
      "dtype: int64\n",
      "ORDERNUMBER        0\n",
      "QUANTITYORDERED    0\n",
      "PRICEEACH          0\n",
      "ORDERLINENUMBER    0\n",
      "SALES              0\n",
      "QTR_ID             0\n",
      "MONTH_ID           0\n",
      "YEAR_ID            0\n",
      "MSRP               0\n",
      "dtype: int64\n"
     ]
    }
   ],
   "source": [
    "#Advanced Imputation Techniques\n",
    "#IF DATA SET IS LARGE AND IMPORTANT\n",
    "#For each missing value, it looks at the k-nearest rows (neighbors) based on other columns' values\n",
    "from sklearn.impute import KNNImputer\n",
    "import pandas as pd\n",
    "data = pd.read_csv(r\"C:\\Users\\pc\\Desktop\\Data science\\MISSING_DATASET_HANDLING.csv\",encoding='latin1')\n",
    "print(data.isnull().sum())\n",
    "\n",
    "imputer = KNNImputer(n_neighbors=5)\n",
    "data_imputed = pd.DataFrame(imputer.fit_transform(data.select_dtypes(include=['float64', 'int64'])),\n",
    "                             columns=data.select_dtypes(include=['float64', 'int64']).columns)\n",
    "print(data_imputed.isnull().sum())"
   ]
  }
 ],
 "metadata": {
  "kernelspec": {
   "display_name": "Python 3",
   "language": "python",
   "name": "python3"
  },
  "language_info": {
   "codemirror_mode": {
    "name": "ipython",
    "version": 3
   },
   "file_extension": ".py",
   "mimetype": "text/x-python",
   "name": "python",
   "nbconvert_exporter": "python",
   "pygments_lexer": "ipython3",
   "version": "3.11.9"
  }
 },
 "nbformat": 4,
 "nbformat_minor": 5
}
