{
 "cells": [
  {
   "cell_type": "markdown",
   "id": "eacc8238",
   "metadata": {},
   "source": [
    "Club Management\n",
    "\n",
    "Problem:\n",
    "You are managing clubs in a college.\n",
    "\n",
    "Each club has a dictionary entry → {\"club_name\": set_of_members}\n",
    "\n",
    "Each member is stored as a tuple (roll_no, name) in the set.\n",
    "\n",
    "Features:\n",
    "\n",
    "Add a new club with members\n",
    "\n",
    "Add/remove students from clubs\n",
    "\n",
    "Show common members between two clubs\n",
    "\n",
    "Show unique members of a club\n",
    "\n",
    "Display all clubs and their member count"
   ]
  },
  {
   "cell_type": "code",
   "execution_count": 7,
   "id": "f2689aa7",
   "metadata": {},
   "outputs": [
    {
     "name": "stdout",
     "output_type": "stream",
     "text": [
      "{'Music Club': {(101, 'Pheobe'), (100, 'Rachel'), (201, 'Chandler')}, 'Dance Club': {(200, 'Joy'), (100, 'Rachel'), (201, 'Chandler')}, 'Sports Club': {(300, 'Rose'), (301, 'Gunther')}}\n"
     ]
    }
   ],
   "source": [
    "club = {\"Music Club\":{(100 , \"Rachel\"), (101 , \"Pheobe\") , (201, \"Chandler\")}, \"Dance Club\" : {(200, \"Joy\"),  (201, \"Chandler\"), (100 , \"Rachel\")} , \"Sports Club\":{(300, \"Rose\"), (301, \"Gunther\")}}\n",
    "print(club)"
   ]
  },
  {
   "cell_type": "code",
   "execution_count": 8,
   "id": "9a8f6204",
   "metadata": {},
   "outputs": [
    {
     "name": "stdout",
     "output_type": "stream",
     "text": [
      "{'Music Club': {(101, 'Pheobe'), (100, 'Rachel'), (201, 'Chandler')}, 'Dance Club': {(200, 'Joy'), (100, 'Rachel'), (201, 'Chandler')}, 'Sports Club': {(300, 'Rose'), (301, 'Gunther')}, 'Arts Club': {(400, 'Miya'), (401, 'Maya')}}\n"
     ]
    }
   ],
   "source": [
    "club[\"Arts Club\"] = {(400, \"Miya\"), (401 , \"Maya\")}\n",
    "print(club)"
   ]
  },
  {
   "cell_type": "code",
   "execution_count": 9,
   "id": "2ee5a9bf",
   "metadata": {},
   "outputs": [
    {
     "name": "stdout",
     "output_type": "stream",
     "text": [
      "AFTER REMOVED A STUDENT FROM CLUB {'Music Club': {(101, 'Pheobe'), (100, 'Rachel'), (201, 'Chandler')}, 'Dance Club': {(100, 'Rachel'), (201, 'Chandler')}, 'Sports Club': {(300, 'Rose'), (301, 'Gunther')}, 'Arts Club': {(400, 'Miya'), (401, 'Maya')}}\n"
     ]
    }
   ],
   "source": [
    "club[\"Dance Club\"].remove((200, \"Joy\"))\n",
    "print(\"AFTER REMOVED A STUDENT FROM CLUB\",club)"
   ]
  },
  {
   "cell_type": "code",
   "execution_count": 10,
   "id": "bc3e552a",
   "metadata": {},
   "outputs": [
    {
     "name": "stdout",
     "output_type": "stream",
     "text": [
      "AFTER ADD STUDENT FROM CLUB {'Music Club': {(101, 'Pheobe'), (100, 'Rachel'), (201, 'Chandler')}, 'Dance Club': {(203, 'Emma'), (100, 'Rachel'), (201, 'Chandler')}, 'Sports Club': {(300, 'Rose'), (301, 'Gunther')}, 'Arts Club': {(400, 'Miya'), (401, 'Maya')}}\n"
     ]
    }
   ],
   "source": [
    "\n",
    "club[\"Dance Club\"].add((203, \"Emma\"))\n",
    "print(\"AFTER ADD STUDENT FROM CLUB\",club)"
   ]
  },
  {
   "cell_type": "code",
   "execution_count": 11,
   "id": "1242af80",
   "metadata": {},
   "outputs": [
    {
     "name": "stdout",
     "output_type": "stream",
     "text": [
      "{(100, 'Rachel'), (201, 'Chandler')}\n"
     ]
    }
   ],
   "source": [
    "Common_members = club[\"Music Club\"].intersection(club[\"Dance Club\"])\n",
    "print(Common_members)"
   ]
  },
  {
   "cell_type": "code",
   "execution_count": 12,
   "id": "755e84cf",
   "metadata": {},
   "outputs": [
    {
     "name": "stdout",
     "output_type": "stream",
     "text": [
      "{(101, 'Pheobe'), (203, 'Emma')}\n"
     ]
    }
   ],
   "source": [
    "unique_members = club[\"Music Club\"].symmetric_difference(club[\"Dance Club\"])\n",
    "print(unique_members)"
   ]
  },
  {
   "cell_type": "code",
   "execution_count": 15,
   "id": "c026a229",
   "metadata": {},
   "outputs": [
    {
     "name": "stdout",
     "output_type": "stream",
     "text": [
      "Club names and their Member Count\n",
      "Music Club : 3\n",
      "Dance Club : 3\n",
      "Sports Club : 2\n",
      "Arts Club : 2\n"
     ]
    }
   ],
   "source": [
    "print(\"Club names and their Member Count\")\n",
    "for clubname , members in club.items():\n",
    "    print(clubname ,\":\", len(members))"
   ]
  },
  {
   "cell_type": "code",
   "execution_count": null,
   "id": "5641cf39",
   "metadata": {},
   "outputs": [],
   "source": [
    "print(\"Thats all \")"
   ]
  },
  {
   "cell_type": "code",
   "execution_count": 41,
   "id": "6ba8694c",
   "metadata": {},
   "outputs": [
    {
     "name": "stdout",
     "output_type": "stream",
     "text": [
      "[('Acting_club', {(101, 'Mohanlal'), (102, 'Mammotty'), (103, 'PrithviRaj')}), ('Direct_club', {(101, 'Mohanlal'), (102, 'Laljose'), (103, 'PrithviRaj')}), ('Singing_club', {(301, 'K.J. Yesudas'), (302, 'K.S. Chithra')})]\n",
      "{(104, 'Fahad'), (101, 'Mohanlal'), (102, 'Mammotty'), (103, 'PrithviRaj')}\n",
      "{(101, 'Mohanlal'), (102, 'Mammotty'), (103, 'PrithviRaj')}\n",
      "{'Acting_club': {(101, 'Mohanlal'), (102, 'Mammotty'), (103, 'PrithviRaj')}, 'Direct_club': {(101, 'Mohanlal'), (102, 'Laljose'), (103, 'PrithviRaj')}, 'Singing_club': {(301, 'K.J. Yesudas'), (302, 'K.S. Chithra')}, 'Dance_club': {(402, \"Remo D'Souza\"), (401, 'Prabhu Deva')}}\n",
      "{(101, 'Mohanlal'), (103, 'PrithviRaj')}\n",
      "{(102, 'Mammotty'), (102, 'Laljose')}\n",
      "All clubs and their member counts:\n",
      "Acting_club: 3 \n",
      "Direct_club: 3 \n",
      "Singing_club: 2 \n",
      "Dance_club: 2 \n"
     ]
    }
   ],
   "source": [
    "\n",
    "club = [\n",
    "    (\"Acting_club\" , {(101, \"Mohanlal\"), (102, \"Mammotty\"), (103, \"PrithviRaj\")}),\n",
    "    (\"Direct_club\", {(101, \"Mohanlal\"), (102, \"Laljose\"), (103, \"PrithviRaj\")}),\n",
    "    (\"Singing_club\" , {(301, \"K.J. Yesudas\"), (302 , \"K.S. Chithra\")})\n",
    "]\n",
    "\n",
    "print(club)\n",
    "\n",
    "club = dict(club)\n",
    "\n",
    "\n",
    "club[\"Acting_club\"].add((104, \"Fahad\"))\n",
    "\n",
    "print(club[\"Acting_club\"])\n",
    "\n",
    "club[\"Acting_club\"].remove((104, \"Fahad\"))\n",
    "print(club[\"Acting_club\"])\n",
    "\n",
    "\n",
    "club[\"Dance_club\"] = {(401, \"Prabhu Deva\"), (402, \"Remo D'Souza\")}\n",
    "\n",
    "print(club)\n",
    "\n",
    "common_members = club[\"Acting_club\"] & club[\"Direct_club\"]\n",
    "print(common_members)\n",
    "\n",
    "\n",
    "unique_members = club[\"Acting_club\"] ^ club[\"Direct_club\"]\n",
    "print(unique_members)\n",
    "\n",
    "\n",
    "print(\"All clubs and their member counts:\")\n",
    "for cname, members in club.items():\n",
    "    print(f\"{cname}: {len(members)} \")"
   ]
  }
 ],
 "metadata": {
  "kernelspec": {
   "display_name": "Python 3",
   "language": "python",
   "name": "python3"
  },
  "language_info": {
   "codemirror_mode": {
    "name": "ipython",
    "version": 3
   },
   "file_extension": ".py",
   "mimetype": "text/x-python",
   "name": "python",
   "nbconvert_exporter": "python",
   "pygments_lexer": "ipython3",
   "version": "3.13.3"
  }
 },
 "nbformat": 4,
 "nbformat_minor": 5
}
